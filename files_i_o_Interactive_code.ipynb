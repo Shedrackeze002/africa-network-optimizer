{
  "nbformat": 4,
  "nbformat_minor": 0,
  "metadata": {
    "colab": {
      "provenance": [],
      "include_colab_link": true
    },
    "kernelspec": {
      "name": "python3",
      "display_name": "Python 3"
    },
    "language_info": {
      "name": "python"
    }
  },
  "cells": [
    {
      "cell_type": "markdown",
      "metadata": {
        "id": "view-in-github",
        "colab_type": "text"
      },
      "source": [
        "<a href=\"https://colab.research.google.com/github/Shedrackeze002/africa-network-optimizer/blob/main/files_i_o_Interactive_code.ipynb\" target=\"_parent\"><img src=\"https://colab.research.google.com/assets/colab-badge.svg\" alt=\"Open In Colab\"/></a>"
      ]
    },
    {
      "cell_type": "markdown",
      "source": [
        "# File input output"
      ],
      "metadata": {
        "id": "7T_ITP7_Wq_b"
      }
    },
    {
      "cell_type": "markdown",
      "source": [
        "#creata text file and write something inside"
      ],
      "metadata": {
        "id": "NzUj0J2AhaZx"
      }
    },
    {
      "cell_type": "code",
      "execution_count": null,
      "metadata": {
        "id": "_InBgC2IprSy"
      },
      "outputs": [],
      "source": [
        "with open('restaurant.txt', mode='w') as inventory: #mode is write\n",
        "  inventory.write('Mikel potatoes peas 20000\\n')\n",
        "  inventory.write('chantal plantain beans 13500\\n')\n",
        "  inventory.write('faustin banana lentils 26000\\n')\n",
        "  inventory.write('mary donut corn 5300\\n')\n",
        "  inventory.write('chris veggies soyabeans 15600\\n')\n",
        "  inventory.write('valence fruits beans 14000\\n')"
      ]
    },
    {
      "cell_type": "markdown",
      "source": [
        "Note:\n",
        "- When using the `.write` method. it is important to end each sentence with `\\n`, else everything you write will be one continuous sentence. Thus you must explicitly include `\\n` with this method.\n",
        "\n",
        "- An alternative would be to do write to a file with `print` (which automatically outputs a `\\n`)"
      ],
      "metadata": {
        "id": "F6XlV8xegz-1"
      }
    },
    {
      "cell_type": "markdown",
      "source": [
        "## Alternative method to write to file using `Print`"
      ],
      "metadata": {
        "id": "nFYzsGPXhgfW"
      }
    },
    {
      "cell_type": "code",
      "source": [
        "with open('restaurant_2.txt', mode='w') as inventory_2: #mode is write\n",
        "  print('Mikel potatoes peas 20000', file=inventory_2)\n",
        "  print('chantal plantain beans 13500', file=inventory_2)\n",
        "  print('faustin banana lentils 26000', file=inventory_2)\n",
        "  print('mary donut corn 5300', file=inventory_2)\n",
        "  print('chris veggies soyabeans 15600', file=inventory_2)\n",
        "  print('valence fruits beans 14000', file=inventory_2)\n"
      ],
      "metadata": {
        "id": "H4oOsYLZhpOB"
      },
      "execution_count": null,
      "outputs": []
    },
    {
      "cell_type": "markdown",
      "source": [
        "# Now we Read from the file\n",
        "\n",
        "\n",
        " **Best practice** is to use with **`open(...) as f:`** for reading a file, so file closes automatically.\n",
        "\n",
        "*Task: try switching between inventory and inventory_2 to see how the `.write` and `print` method work in these cases.*"
      ],
      "metadata": {
        "id": "0w1Lmg64heUi"
      }
    },
    {
      "cell_type": "code",
      "source": [
        "with open('restaurant.txt', 'r') as inventory_2: #now the node is read\n",
        "    print(f'{\"Customer_name\":<20}{\"Customer_order\":<20}{\"Grains_order\":<20}{\"Total_price\":>10}')\n",
        "    for record in inventory_2:\n",
        "        name, item, grains, price = record.split()\n",
        "        print(f'{name:<20}{item:<20}{grains:<20}{price:>10}')\n",
        "\n"
      ],
      "metadata": {
        "colab": {
          "base_uri": "https://localhost:8080/"
        },
        "id": "WshTQjOWcp5o",
        "outputId": "aa41ea99-b8b3-492f-c53f-078d95826d7e"
      },
      "execution_count": null,
      "outputs": [
        {
          "output_type": "stream",
          "name": "stdout",
          "text": [
            "Customer_name       Customer_order      Grains_order        Total_price\n",
            "Mikel               potatoes            peas                     20000\n",
            "chantal             plantain            beans                    13500\n",
            "faustin             banana              lentils                  26000\n",
            "mary                donut               corn                      5300\n",
            "chris               veggies             soyabeans                15600\n",
            "valence             fruits              beans                    14000\n"
          ]
        }
      ]
    },
    {
      "cell_type": "markdown",
      "source": [
        "# File Inut output Methods"
      ],
      "metadata": {
        "id": "mBTmxbpJoGZa"
      }
    },
    {
      "cell_type": "markdown",
      "source": [
        "## Readlines"
      ],
      "metadata": {
        "id": "FnkYpnpZoLo9"
      }
    },
    {
      "cell_type": "code",
      "source": [
        "file_reader = open('restaurant.txt')\n",
        "print('The read() can be used to read only a portion of the .txt file\\n')\n",
        "# print('For example, the First 50 characters in the restaurant file is:\\n\\n', file_reader.read(20)) # we can do this with the read()."
      ],
      "metadata": {
        "colab": {
          "base_uri": "https://localhost:8080/"
        },
        "id": "C9mnXXlap-Kd",
        "outputId": "a625c75c-24d1-4945-fb38-9ca838d652c6"
      },
      "execution_count": null,
      "outputs": [
        {
          "output_type": "stream",
          "name": "stdout",
          "text": [
            "The read() can be used to read only a portion of the .txt file\n",
            "\n"
          ]
        }
      ]
    },
    {
      "cell_type": "code",
      "source": [
        "lines = file_reader.readlines()\n",
        "output_text = ''\n",
        "for line in lines:\n",
        "  output_text+=line\n",
        "file_reader.close()\n",
        "\n",
        "print('\\nThe content of the restaurant text file created ealrier is:\\n\\n',output_text)"
      ],
      "metadata": {
        "colab": {
          "base_uri": "https://localhost:8080/"
        },
        "id": "OfMl7cJGY7HM",
        "outputId": "f09014d3-fe36-465e-c286-0118c5c71814"
      },
      "execution_count": null,
      "outputs": [
        {
          "output_type": "stream",
          "name": "stdout",
          "text": [
            "\n",
            "The content of the restaurant text file created ealrier is:\n",
            "\n",
            " Mikel potatoes peas 20000\n",
            "chantal plantain beans 13500\n",
            "faustin banana lentils 26000\n",
            "mary donut corn 5300\n",
            "chris veggies soyabeans 15600\n",
            "valence fruits beans 14000\n",
            "\n"
          ]
        }
      ]
    },
    {
      "cell_type": "code",
      "source": [
        "print(lines)"
      ],
      "metadata": {
        "colab": {
          "base_uri": "https://localhost:8080/"
        },
        "id": "yoFOcDzfwq8a",
        "outputId": "6a48ca0b-30b6-43d0-c3f1-ab3fa83d9767"
      },
      "execution_count": null,
      "outputs": [
        {
          "output_type": "stream",
          "name": "stdout",
          "text": [
            "['Mikel potatoes peas 20000\\n', 'chantal plantain beans 13500\\n', 'faustin banana lentils 26000\\n', 'mary donut corn 5300\\n', 'chris veggies soyabeans 15600\\n', 'valence fruits beans 14000\\n']\n"
          ]
        }
      ]
    },
    {
      "cell_type": "markdown",
      "source": [
        "## Once we have read the file, we can now extra infromation from it"
      ],
      "metadata": {
        "id": "kqgs7IYKuYWe"
      }
    },
    {
      "cell_type": "code",
      "source": [
        "grains_only = {}\n",
        "for customer_order in output_text.strip().split('\\n'):\n",
        "  name, starch, grains, price = customer_order.split(' ')\n",
        "  if grains not in grains_only:\n",
        "    grains_only[grains] = 1\n",
        "  else:\n",
        "    grains_only[grains] +=1\n",
        "print ('This is the dictionary showing the amount of grains ordered:', grains_only)"
      ],
      "metadata": {
        "colab": {
          "base_uri": "https://localhost:8080/"
        },
        "id": "WVmorAFSrIzz",
        "outputId": "95ca281a-d21d-4a6a-9b19-0028908e7f84"
      },
      "execution_count": null,
      "outputs": [
        {
          "output_type": "stream",
          "name": "stdout",
          "text": [
            "This is the dictionary showing the amount of grains ordered: {'peas': 1, 'beans': 2, 'lentils': 1, 'corn': 1, 'soyabeans': 1}\n"
          ]
        }
      ]
    },
    {
      "cell_type": "code",
      "source": [
        "print(len(output_text.strip().split('\\n')))"
      ],
      "metadata": {
        "colab": {
          "base_uri": "https://localhost:8080/"
        },
        "id": "1ACz36_TqzaQ",
        "outputId": "bd59423d-60c0-4e2f-c5e7-c514531dcd04"
      },
      "execution_count": null,
      "outputs": [
        {
          "output_type": "stream",
          "name": "stdout",
          "text": [
            "6\n"
          ]
        }
      ]
    },
    {
      "cell_type": "markdown",
      "source": [
        "## Write\n",
        "\n",
        "What is we forgot to add one customer order to the original list? Can we still add it after the fact?\n",
        "\n",
        "Yes we can"
      ],
      "metadata": {
        "id": "YB7DI5choPfF"
      }
    },
    {
      "cell_type": "code",
      "source": [
        "# file_writer = open('restaurant_2.txt', 'a')\n",
        "# file_writer.write('Joseph rice sorghum 5390\\n')  #from last class, the error is that i forgot to add \\n since i was using the.write\n",
        "# file_writer.write('Sandy corn stew 14000\\n')\n",
        "# file_writer.close()  #always remember to close\n",
        "\n",
        "with open('restaurant_2.txt', 'a') as file_writer: #why did we not use 'w' here?\n",
        "    file_writer.write('Joseph avocado rice 5390\\n')\n",
        "    file_writer.write('Sandy pumpkins beans 14000\\n')\n"
      ],
      "metadata": {
        "id": "1jTJdqSovHtj"
      },
      "execution_count": null,
      "outputs": []
    },
    {
      "cell_type": "code",
      "source": [
        "# lets see if everything worked out right\n",
        "with open('restaurant_2.txt', 'r') as inventory_updated: #now the node is read\n",
        "    print(f'{\"Customer_name\":<20}{\"Customer_order\":<20}{\"Grains_order\":<20}{\"Total_price\":>10}')\n",
        "    for record in inventory_updated:\n",
        "        name, item, grains, price = record.strip().split()\n",
        "        print(f'{name:<20}{item:<20}{grains:<20}{price:>10}')"
      ],
      "metadata": {
        "colab": {
          "base_uri": "https://localhost:8080/"
        },
        "id": "x0tcQOfshay3",
        "outputId": "6f8caf68-72d5-4b2d-fed4-ac1be3077e9b"
      },
      "execution_count": null,
      "outputs": [
        {
          "output_type": "stream",
          "name": "stdout",
          "text": [
            "Customer_name       Customer_order      Grains_order        Total_price\n",
            "Mikel               potatoes            peas                     20000\n",
            "chantal             plantain            beans                    13500\n",
            "faustin             banana              lentils                  26000\n",
            "mary                donut               corn                      5300\n",
            "chris               veggies             soyabeans                15600\n",
            "valence             fruits              beans                    14000\n",
            "Joseph              rice                sorghum                   5390\n",
            "Sandy               corn                stew                     14000\n",
            "Joseph              avocado             rice                      5390\n",
            "Sandy               pumpkins            beans                    14000\n"
          ]
        }
      ]
    },
    {
      "cell_type": "markdown",
      "source": [
        "## Writelines\n",
        "\n",
        "-  The `write()` method is used to write a string to an already opened file\n",
        "- However, the `writelines()` method is used to write a list of strings in an opened file.\n",
        "\n",
        "CHeck for yourself.\n",
        "\n"
      ],
      "metadata": {
        "id": "Jah5ayXroRNi"
      }
    },
    {
      "cell_type": "code",
      "source": [
        "customer_new_order_list = []\n",
        "\n",
        "for i in range(4):\n",
        "    orders = input(\"Enter the name, item, grains and price order of the customer all in one line each separated by a space: \")\n",
        "    customer_new_order_list.append(orders + '\\n')\n",
        "\n",
        "with open('restaurant_2.txt', 'a') as file_writer:\n",
        "    file_writer.writelines(customer_new_order_list)\n",
        "    file_writer.close()\n"
      ],
      "metadata": {
        "collapsed": true,
        "id": "9VTwFYutxjXj"
      },
      "execution_count": null,
      "outputs": []
    },
    {
      "cell_type": "markdown",
      "source": [
        "##TO DO 2\n",
        "\n",
        "- add 3 new customer orders from the previous cell prompt e.g\n",
        "  - Sandra squash bread 12907  \n",
        "  - Aissatou collargreens cassava 4960\n",
        "- Check to see that they all worksed\n",
        "- Adjust the code in read mode to make sure that ir does not break when\n",
        "  - User inputs nothing\n",
        "  - User inputs an invalid entry, i.e should show a message to  keep the user aware\n",
        "\n",
        "- Print the final updated file\n",
        "\n",
        "##TO DO 3\n",
        "- Implement tO DO 2 using an Exception Handler instead."
      ],
      "metadata": {
        "id": "2kYYy4uO3d3Y"
      }
    },
    {
      "cell_type": "markdown",
      "source": [
        "# TO DO 4:\n",
        "\n",
        "Find out about the `seek`, `tell`, `truncate` i/o methods and provide examples"
      ],
      "metadata": {
        "id": "pDO1opit4qU_"
      }
    },
    {
      "cell_type": "markdown",
      "source": [
        "##seek"
      ],
      "metadata": {
        "id": "TIlYe-qyobpy"
      }
    },
    {
      "cell_type": "markdown",
      "source": [
        "##tell"
      ],
      "metadata": {
        "id": "KhobgkjxodGq"
      }
    },
    {
      "cell_type": "markdown",
      "source": [
        "##truncate"
      ],
      "metadata": {
        "id": "DZMQiy1ooej4"
      }
    },
    {
      "cell_type": "markdown",
      "source": [
        "##close"
      ],
      "metadata": {
        "id": "UEPqzAHloVua"
      }
    },
    {
      "cell_type": "code",
      "source": [
        "###################################################"
      ],
      "metadata": {
        "id": "RF4wDODdWbiF"
      },
      "execution_count": null,
      "outputs": []
    },
    {
      "cell_type": "markdown",
      "source": [
        "# Using the OS Module for safe and effective file management"
      ],
      "metadata": {
        "id": "Wg-9mA425CX_"
      }
    },
    {
      "cell_type": "markdown",
      "source": [
        "Now that we are business oweners and out company is growing. We want to make sure we keep track of files by classifying them in the right folders/directory (which we will call customer_orders_PDA25)."
      ],
      "metadata": {
        "id": "L-qoYRovko8p"
      }
    },
    {
      "cell_type": "markdown",
      "source": [
        "###creating a folder or directory"
      ],
      "metadata": {
        "id": "Pzq1jggOR2NV"
      }
    },
    {
      "cell_type": "code",
      "source": [
        "import os\n",
        "\n",
        "data_dir = \"customer_orders_PDA25\"\n",
        "file_name = \"restaurant_2.txt\"\n",
        "\n",
        "# Does the directory exist: create one if it doesn't,\n",
        "if not os.path.exists(data_dir):\n",
        "    os.makedirs(data_dir)\n",
        "    print(f\"The Directory: {data_dir} has been created. Look in you files section\")\n",
        "else:\n",
        "    print(f'\\nThe Directory *{data_dir}* exists and is ready to be used')"
      ],
      "metadata": {
        "colab": {
          "base_uri": "https://localhost:8080/"
        },
        "id": "x5HhhCIAR6qr",
        "outputId": "7d217ff0-86de-4ed8-c380-bf43b24d42b1"
      },
      "execution_count": null,
      "outputs": [
        {
          "output_type": "stream",
          "name": "stdout",
          "text": [
            "\n",
            "The Directory *customer_orders_PDA25* exists and is ready to be used\n"
          ]
        }
      ]
    },
    {
      "cell_type": "markdown",
      "source": [
        "### adding a file to the created directory/folder"
      ],
      "metadata": {
        "id": "XyHy9j1aR8qe"
      }
    },
    {
      "cell_type": "code",
      "source": [
        "file_path = os.path.join(data_dir, file_name)"
      ],
      "metadata": {
        "id": "YUKLl--hSA3V"
      },
      "execution_count": null,
      "outputs": []
    },
    {
      "cell_type": "markdown",
      "source": [
        "### Now we add content to the restaurant file in the directory"
      ],
      "metadata": {
        "id": "JIEz_TFYSGnI"
      }
    },
    {
      "cell_type": "code",
      "source": [
        "with open(file_path, mode='w') as inventory_2: #using file_path instaed of restaurant.txt so file is created inside customer_orders_PDA25 folder\n",
        "  print('Mikel potatoes peas 20000', file=inventory_2)\n",
        "  print('chantal plantain beans 13500', file=inventory_2)\n",
        "  print('faustin banana lentils 26000', file=inventory_2)\n",
        "  print('mary donut corn 5300', file=inventory_2)\n",
        "  print('chris veggies soyabeans 15600', file=inventory_2)\n",
        "  print('valence fruits beans 14000', file=inventory_2)\n",
        "print(f\"\\nThe data has been written to this location in the computer: {file_path}\")"
      ],
      "metadata": {
        "id": "lCUG1s_8SGFO"
      },
      "execution_count": null,
      "outputs": []
    },
    {
      "cell_type": "markdown",
      "source": [
        "### Lets verify what is in our file- Read the file\n",
        "\n",
        "***Did you notice that we did not pass the file name 'restaurant.txt' like before?***"
      ],
      "metadata": {
        "id": "HBBnkjc7STYr"
      }
    },
    {
      "cell_type": "code",
      "source": [
        "with open(file_path, 'r') as inventory_2: #now the mode is read\n",
        "    print(\"\\nThis is what was just inputted into the file:\\n\")\n",
        "    print(f'{\"Customer_name\":<20}{\"Customer_order\":<20}{\"Grains_order\":<20}{\"Total_price\":>10}')\n",
        "    for record in inventory_2:\n",
        "        name, item, grains, price = record.split()\n",
        "        print(f'{name:<20}{item:<20}{grains:<20}{price:>10}')"
      ],
      "metadata": {
        "id": "mTEShllFSS8I"
      },
      "execution_count": null,
      "outputs": []
    },
    {
      "cell_type": "markdown",
      "source": [
        "### Updating the file with new customer orders"
      ],
      "metadata": {
        "id": "5XQ1gDKuSaBG"
      }
    },
    {
      "cell_type": "code",
      "source": [
        "customer_new_order_list = []\n",
        "for i in range(1):\n",
        "    print('\\nEnter the name, item, grains and price order of the customer all in one line each separated by a space\\n')\n",
        "    orders = input(\"Here: \")\n",
        "    customer_new_order_list.append(orders + '\\n')\n",
        "if os.path.isfile(file_path):\n",
        "  with open('restaurant_2.txt', 'a') as file_writer:\n",
        "      file_writer.writelines(customer_new_order_list)\n",
        "\n",
        "print(f\"\\nAll the New orders had been appended-added to the bottom of the original list. \\nHere is the new updated list.\\n\")\n",
        "\n",
        "with open(file_path, 'r') as inventory_updated:\n",
        "  print(f'{\"Customer_name\":<20}{\"Customer_order\":<20}{\"Grains_order\":<20}{\"Total_price\":>10}')\n",
        "  for record in inventory_updated:\n",
        "      record = record.strip()\n",
        "      if not record:  #suppose someone does not input something\n",
        "        continue\n",
        "      record_items = record.split()\n",
        "      if len(record_items) != 4:  #or they input something invalide\n",
        "        print('Skipping invalid input')\n",
        "        print(' CHeck to mke sure you are inputting exactly 4 items all space separated.')\n",
        "        continue\n",
        "      name, item, grains, price = record_items\n",
        "      print(f'{name:<20}{item:<20}{grains:<20}{price:>10}')"
      ],
      "metadata": {
        "id": "8_GiY5aYSh_c"
      },
      "execution_count": null,
      "outputs": []
    },
    {
      "cell_type": "markdown",
      "source": [
        "###Now the Boss wants us to creat a back up file."
      ],
      "metadata": {
        "id": "WIxBUngqSnV2"
      }
    },
    {
      "cell_type": "markdown",
      "source": [
        "####Using with open()"
      ],
      "metadata": {
        "id": "KgAIznWIS7XD"
      }
    },
    {
      "cell_type": "code",
      "source": [
        "source_file = file_path\n",
        "destination_file = os.path.join(data_dir, \"restaurant_backup_copy.txt\")\n",
        "if os.path.isfile(source_file):\n",
        "    with open(source_file, 'r') as src, open(destination_file, 'w') as dest:\n",
        "        dest.write(src.read())\n",
        "    print(f\"\\nSuccess: Manually copied contents to original source file:{source_file} ---> backup:{destination_file}\")\n",
        "else:\n",
        "  print('\\nBack up Failed: There is no source file to back up.\\n')"
      ],
      "metadata": {
        "colab": {
          "base_uri": "https://localhost:8080/"
        },
        "id": "BW3ku1Y1SsZ_",
        "outputId": "f1286541-cd49-442f-b2bf-d0de55c32075"
      },
      "execution_count": null,
      "outputs": [
        {
          "output_type": "stream",
          "name": "stdout",
          "text": [
            "\n",
            "Success: Manually copied contents to original source file:customer_orders_PDA25/restaurant_2.txt ---> backup:customer_orders_PDA25/restaurant_backup_copy.txt\n"
          ]
        }
      ]
    },
    {
      "cell_type": "markdown",
      "source": [
        "#### Using built in module Shutil()"
      ],
      "metadata": {
        "id": "LG1Cai4LTCTX"
      }
    },
    {
      "cell_type": "code",
      "source": [
        "source_file = file_path\n",
        "destination_file = os.path.join(data_dir, \"restaurant_backup_copy.txt\")\n",
        "if os.path.isfile(source_file):\n",
        "    with open(source_file, 'r') as src, open(destination_file, 'w') as dest:\n",
        "        dest.write(src.read())\n",
        "    print(f\"\\nSuccess: Manually copied contents to original source file:{source_file} ---> backup:{destination_file}\")\n",
        "else:\n",
        "  print('\\nBack up Failed: There is no source file to back up.\\n')"
      ],
      "metadata": {
        "id": "lSZ8kqchTAX0"
      },
      "execution_count": null,
      "outputs": []
    },
    {
      "cell_type": "markdown",
      "source": [
        "### Checking the files in out current working directory"
      ],
      "metadata": {
        "id": "ctRJrc9STrnT"
      }
    },
    {
      "cell_type": "code",
      "source": [
        "print(\"\\n these are the original Files in data directory:\", os.listdir(data_dir))"
      ],
      "metadata": {
        "id": "eRZs671PTwxA"
      },
      "execution_count": null,
      "outputs": []
    },
    {
      "cell_type": "markdown",
      "source": [
        "## Putting it all together"
      ],
      "metadata": {
        "id": "QAj7L3npTeVm"
      }
    },
    {
      "cell_type": "code",
      "source": [
        "import os\n",
        "import shutil #this will help us copy\n",
        "\n",
        "data_dir = \"customer_orders_PDA25\"\n",
        "file_name = \"restaurant_2.txt\"\n",
        "\n",
        "# Does the directory exist: create one if it doesn't,\n",
        "if not os.path.exists(data_dir):\n",
        "    os.makedirs(data_dir)\n",
        "    print(f\"Created directory: {data_dir}\")\n",
        "else:\n",
        "    print(f'\\nThe Directory *{data_dir}* exists and is ready to be used')\n",
        "\n",
        "# Now that the folder exists,  this is how we put the file inside\n",
        "file_path = os.path.join(data_dir, file_name)\n",
        "\n",
        "# now build your restaurant.txt file like we have sdone before\n",
        "with open(file_path, mode='w') as inventory_2: #using file_path instaed of restaurant.txt so file is created inside customer_orders_PDA25 folder\n",
        "  print('Mikel potatoes peas 20000', file=inventory_2)\n",
        "  print('chantal plantain beans 13500', file=inventory_2)\n",
        "  print('faustin banana lentils 26000', file=inventory_2)\n",
        "  print('mary donut corn 5300', file=inventory_2)\n",
        "  print('chris veggies soyabeans 15600', file=inventory_2)\n",
        "  print('valence fruits beans 14000', file=inventory_2)\n",
        "print(f\"\\nThe data has been written to this location in the computer: {file_path}\")\n",
        "\n",
        "# we verify that the content written is in the file.\n",
        "with open(file_path, 'r') as inventory_2: #now the mode is read\n",
        "    print(\"\\nWe are trying to access the current File Contents:\\n\")\n",
        "    print(f'{\"Customer_name\":<20}{\"Customer_order\":<20}{\"Grains_order\":<20}{\"Total_price\":>10}')\n",
        "    for record in inventory_2:\n",
        "        name, item, grains, price = record.split()\n",
        "        print(f'{name:<20}{item:<20}{grains:<20}{price:>10}')\n",
        "\n",
        "# What if we want to update the file with new contents?\n",
        "# We check if the file already exists, we safely append new data to it\n",
        "customer_new_order_list = []\n",
        "for i in range(1):\n",
        "    print('\\nEnter the name, item, grains and price order of the customer all in one line each separated by a space\\n')\n",
        "    orders = input(\"Here: \")\n",
        "    customer_new_order_list.append(orders + '\\n')\n",
        "if os.path.isfile(file_path):\n",
        "  with open('restaurant_2.txt', 'a') as file_writer:\n",
        "      file_writer.writelines(customer_new_order_list)\n",
        "\n",
        "print(f\"\\nAll the New orders had been appended-added to the bottom of the original list. \\nHere is the new updated list.\\n\")\n",
        "\n",
        "with open(file_path, 'r') as inventory_updated: #now the node is read\n",
        "  print(f'{\"Customer_name\":<20}{\"Customer_order\":<20}{\"Grains_order\":<20}{\"Total_price\":>10}')\n",
        "  for record in inventory_updated:\n",
        "      record = record.strip()\n",
        "      if not record:  #suppose someone does not input something\n",
        "        continue\n",
        "      record_items = record.split()\n",
        "      if len(record_items) != 4:  #or they input something invalide\n",
        "        print('Skipping invalid input')\n",
        "        print(' CHeck to mke sure you are inputting exactly 4 items all space separated.')\n",
        "        continue\n",
        "      name, item, grains, price = record_items\n",
        "      print(f'{name:<20}{item:<20}{grains:<20}{price:>10}')\n",
        "\n",
        "# To avoid your intern from deleting the entire folder, it is good to create a backup copy and save it elsewhere\n",
        "source_file = file_path\n",
        "destination_file = os.path.join(data_dir, \"restaurant_backup_copy.txt\")\n",
        "if os.path.isfile(source_file):\n",
        "    with open(source_file, 'r') as src, open(destination_file, 'w') as dest:\n",
        "        dest.write(src.read())\n",
        "\n",
        "    print(f\"\\nSuccess: Manually copied contents to original source file:{source_file} ---> backup:{destination_file}\")\n",
        "else:\n",
        "  print('\\nBack up Failed: There is no source file to back up.\\n')\n",
        "\n",
        "#option 2- Safer and often most used\n",
        "if os.path.isfile(source_file): # remember the original file_name is what we want to copy, we have to make sure it exists\n",
        "  shutil.copy(source_file, destination_file)\n",
        "  print(f\"\\nSuccess: Copied using built-in shutil module from original source file: {source_file} --> backup:{destination_file}\")\n",
        "else:\n",
        "  print(\"There is no original Files in data directory. Cannot copy.\")\n",
        "\n",
        "# List all files in the folder/directory\n",
        "print(\"\\n these are the original Files in data directory:\", os.listdir(data_dir))\n"
      ],
      "metadata": {
        "id": "QJqSN379krJH"
      },
      "execution_count": null,
      "outputs": []
    },
    {
      "cell_type": "markdown",
      "source": [
        "# TO DO 5:\n",
        "\n",
        "Convert this code into a module called ***'RestaurantOrderManager'*** containing the following objects:\n",
        "\n",
        "- an __init__ ,\n",
        "- ensure_directory,\n",
        "- original_order,\n",
        "- read_orders,\n",
        "- append_order\n",
        "- create_backup\n",
        "-list_direcotry_files\n",
        "\n",
        "Then, provide and examples runnable test example to run your module."
      ],
      "metadata": {
        "id": "N7OTx6WSVS4G"
      }
    },
    {
      "cell_type": "markdown",
      "source": [
        "# Solutions to TODOs"
      ],
      "metadata": {
        "id": "z4GyvkOp41pb"
      }
    },
    {
      "cell_type": "code",
      "source": [
        "#TO DO 2\n",
        "\n",
        "with open('restaurant_2.txt', 'r') as inventory_updated: #now the node is read\n",
        "    print(f'{\"Customer_name\":<20}{\"Customer_order\":<20}{\"Grains_order\":<20}{\"Total_price\":>10}')\n",
        "    for record in inventory_updated:\n",
        "        record = record.strip()\n",
        "        if not record:  #suppose someone does not input something\n",
        "          continue\n",
        "        record_items = record.split()\n",
        "        if len(record_items) != 4:  #or they input something invalide\n",
        "          print('Skipping invalid input')\n",
        "          print(' CHeck to mke sure you are inputting exactly 4 items all space separated.')\n",
        "          continue\n",
        "        name, item, grains, price = record_items\n",
        "        print(f'{name:<20}{item:<20}{grains:<20}{price:>10}')"
      ],
      "metadata": {
        "id": "6U_jxAlS3o-I"
      },
      "execution_count": null,
      "outputs": []
    },
    {
      "cell_type": "markdown",
      "source": [
        "# LECTURE 8: SERIALISATIONA ND DESERIAIZATION WITH JSON"
      ],
      "metadata": {
        "id": "kY44axkUZyKv"
      }
    },
    {
      "cell_type": "code",
      "source": [
        "# original Plain text file\n",
        "with open(\"restaurant_2.txt\", \"w\") as file:\n",
        "    file.write(\"Mikel potatoes peas 20000\\n\")\n",
        "    file.write(\"chantal plantain beans 13500\\n\")\n",
        "    file.write(\"faustin banana lentils 26000\\n\")\n",
        "    file.write(\"mary donut corn 5300\\n\")\n",
        "    file.write(\"chris veggies soyabeans 15600\\n\")\n",
        "    file.write(\"valence fruits beans 14000\\n\")"
      ],
      "metadata": {
        "id": "eznZo-FGgrVQ"
      },
      "execution_count": null,
      "outputs": []
    },
    {
      "cell_type": "code",
      "source": [
        "# Step 1: Convert the plain text(list on your fridge) into digital list (whatsapp)\n",
        "orders = [\n",
        "    (\"Mikel\", \"potatoes\", \"peas\", 20000),\n",
        "    (\"chantal\", \"plantain\", \"beans\", 13500),\n",
        "    (\"faustin\", \"banana\", \"lentils\", 26000),\n",
        "    (\"mary\", \"donut\", \"corn\", 5300),\n",
        "    (\"chris\", \"veggies\", \"soyabeans\", 15600),\n",
        "    (\"valence\", \"fruits\", \"beans\", 14000)\n",
        "]\n",
        "\n",
        "inventory_dict = {name: {\"item\": item, \"accompaniment\": grains, \"price\": price}\n",
        "                  for name, item, grains, price in orders}\n",
        "\n",
        "print(inventory_dict)\n",
        "print(type(inventory_dict))"
      ],
      "metadata": {
        "colab": {
          "base_uri": "https://localhost:8080/"
        },
        "id": "XbkTOrXLesQB",
        "outputId": "f686eceb-ce5a-45fc-bf36-a878e574a577"
      },
      "execution_count": null,
      "outputs": [
        {
          "output_type": "stream",
          "name": "stdout",
          "text": [
            "{'Mikel': {'item': 'potatoes', 'accompaniment': 'peas', 'price': 20000}, 'chantal': {'item': 'plantain', 'accompaniment': 'beans', 'price': 13500}, 'faustin': {'item': 'banana', 'accompaniment': 'lentils', 'price': 26000}, 'mary': {'item': 'donut', 'accompaniment': 'corn', 'price': 5300}, 'chris': {'item': 'veggies', 'accompaniment': 'soyabeans', 'price': 15600}, 'valence': {'item': 'fruits', 'accompaniment': 'beans', 'price': 14000}}\n",
            "<class 'dict'>\n"
          ]
        }
      ]
    },
    {
      "cell_type": "code",
      "source": [
        "import json\n",
        "\n",
        "# Serializing the inventory dict into a JSON string\n",
        "order_json = json.dumps(inventory_dict)\n",
        "print(order_json)\n",
        "print(type(order_json))\n"
      ],
      "metadata": {
        "colab": {
          "base_uri": "https://localhost:8080/"
        },
        "id": "8dcYo_Lebc0Z",
        "outputId": "30a58f89-170a-4219-b923-89ac24e981da"
      },
      "execution_count": null,
      "outputs": [
        {
          "output_type": "stream",
          "name": "stdout",
          "text": [
            "{\"Mikel\": {\"item\": \"potatoes\", \"accompaniment\": \"peas\", \"price\": 20000}, \"chantal\": {\"item\": \"plantain\", \"accompaniment\": \"beans\", \"price\": 13500}, \"faustin\": {\"item\": \"banana\", \"accompaniment\": \"lentils\", \"price\": 26000}, \"mary\": {\"item\": \"donut\", \"accompaniment\": \"corn\", \"price\": 5300}, \"chris\": {\"item\": \"veggies\", \"accompaniment\": \"soyabeans\", \"price\": 15600}, \"valence\": {\"item\": \"fruits\", \"accompaniment\": \"beans\", \"price\": 14000}}\n",
            "<class 'str'>\n"
          ]
        }
      ]
    },
    {
      "cell_type": "markdown",
      "source": [
        "## Inputting contents to file before"
      ],
      "metadata": {
        "id": "TXXqiQnQeeaH"
      }
    },
    {
      "cell_type": "code",
      "source": [
        "with open('restaurant_2.txt', 'a') as file_writer: #why did we not use 'w' here?\n",
        "    file_writer.write('Joseph avocado rice 5390\\n')\n",
        "    file_writer.write('Sandy pumpkins beans 14000\\n')"
      ],
      "metadata": {
        "id": "OpiCT74ScKU0"
      },
      "execution_count": null,
      "outputs": []
    },
    {
      "cell_type": "markdown",
      "source": [
        "## inputting contents to file with Json"
      ],
      "metadata": {
        "id": "dC6dCoWOekZ-"
      }
    },
    {
      "cell_type": "code",
      "source": [
        "# step 2: simply update the old inventory_dict\n",
        "inventory_dict.update({\n",
        "    \"oscar\": {\"item\": \"sweet potatoes\", \"accompaniment\": \"sugar snap peas\", \"price\": 20500},\n",
        "    \"cosmo\": {\"item\": \"green plantains\", \"accompaniment\": \"black beans\", \"price\": 3500},\n",
        "    \"linda\": {\"item\": \"yellow banana\", \"accompaniment\": \"brown lentils\", \"price\": 28600},\n",
        "    \"oran\": {\"item\": \"green banana\", \"accompaniment\": \"barley\", \"price\": 24030}\n",
        "})\n",
        "\n",
        "with open ('restaurant_inventory.json', 'w') as file_writer_json:\n",
        "  json.dump(inventory_dict, file_writer_json, indent= 2)"
      ],
      "metadata": {
        "id": "J0yPie51fbBD"
      },
      "execution_count": null,
      "outputs": []
    },
    {
      "cell_type": "markdown",
      "source": [
        "## Deserialization"
      ],
      "metadata": {
        "id": "4VElAm-Dkce_"
      }
    },
    {
      "cell_type": "code",
      "source": [
        "with open(\"restaurant_inventory.json\", \"r\") as json_file:\n",
        "    data = json.load(json_file)"
      ],
      "metadata": {
        "id": "d4SGc_EmjUJX"
      },
      "execution_count": null,
      "outputs": []
    },
    {
      "cell_type": "code",
      "source": [
        "print(data[\"oscar\"][\"price\"])"
      ],
      "metadata": {
        "colab": {
          "base_uri": "https://localhost:8080/"
        },
        "id": "ud33q49qlB-q",
        "outputId": "3b2d6b08-b836-42ae-c201-bb99b43c192b"
      },
      "execution_count": null,
      "outputs": [
        {
          "output_type": "stream",
          "name": "stdout",
          "text": [
            "20500\n"
          ]
        }
      ]
    },
    {
      "cell_type": "code",
      "source": [
        "print(data)\n",
        "print(type(data))"
      ],
      "metadata": {
        "colab": {
          "base_uri": "https://localhost:8080/"
        },
        "id": "5xbBGmEukfpp",
        "outputId": "fa12b232-fb4d-4436-8dc6-ed26eb130fa2"
      },
      "execution_count": null,
      "outputs": [
        {
          "output_type": "stream",
          "name": "stdout",
          "text": [
            "{'Mikel': {'item': 'potatoes', 'accompaniment': 'peas', 'price': 20000}, 'chantal': {'item': 'plantain', 'accompaniment': 'beans', 'price': 13500}, 'faustin': {'item': 'banana', 'accompaniment': 'lentils', 'price': 26000}, 'mary': {'item': 'donut', 'accompaniment': 'corn', 'price': 5300}, 'chris': {'item': 'veggies', 'accompaniment': 'soyabeans', 'price': 15600}, 'valence': {'item': 'fruits', 'accompaniment': 'beans', 'price': 14000}, 'oscar': {'item': 'sweet potatoes', 'accompaniment': 'snap peas', 'price': 20500}, 'cosmo': {'item': 'green plantains', 'accompaniment': 'black beans', 'price': 3500}, 'linda': {'item': 'yellow banana', 'accompaniment': 'brown lentils', 'price': 28600}, 'oran': {'item': 'green banana', 'accompaniment': 'barley', 'price': 24030}}\n",
            "<class 'dict'>\n"
          ]
        }
      ]
    },
    {
      "cell_type": "markdown",
      "source": [
        "#File Try .. Exception"
      ],
      "metadata": {
        "id": "T770dNT-xI6n"
      }
    },
    {
      "cell_type": "code",
      "source": [
        "import json\n",
        "\n",
        "try:\n",
        "    # try loading data from a JSON file\n",
        "    with open(\"restaurant_inventory.json\", \"r\") as file:\n",
        "        inventory = json.load(file)\n",
        "    print(\"Inventory loaded successfully!\")\n",
        "    print(inventory)\n",
        "\n",
        "except FileNotFoundError:\n",
        "    # If the file doesn't exist, we handle the error gracefully\n",
        "    print(\"File not found! Creating a new inventory file...\")\n",
        "    inventory = {}  # Start with an empty inventory\n",
        "\n",
        "    # or maybe we just creat a new .json file from the original inventory_dict\n",
        "    with open(\"restaurant_inventory.json\", \"w\") as file:\n",
        "        json.dump(inventory_dict, file)\n",
        "\n",
        "except json.JSONDecodeError:\n",
        "    # what if the file is corrupted or has othe rissues\n",
        "    print(\"The file is corrupted. Starting fresh...\")\n",
        "    inventory = {}\n",
        "\n",
        "finally:\n",
        "    print(\"Done trying to load the inventory.\")\n"
      ],
      "metadata": {
        "id": "d5yS90FTrzWs"
      },
      "execution_count": null,
      "outputs": []
    }
  ]
}